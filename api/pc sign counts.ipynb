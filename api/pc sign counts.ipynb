{
 "cells": [
  {
   "attachments": {
    "image.png": {
     "image/png": "[encoded data removed]"
    }
   },
   "cell_type": "markdown",
   "metadata": {},
   "source": [
    "# Proto-Cuneiform Sign Counts\n",
    "\n",
    "**Instructions:**\n",
    "1. Click the 'Run all' button at the top of the page. It is the button highlighted in red in this image:\n",
    "![image.png](attachment:image.png)\n",
    "2. When asked to confirm, click \"Restart and Run All Cells\"\n",
    "3. A collection of search boxes and other controls will appear at the bottom of the page. Adjust the controls to filter the sign counts. The counts will be displayed underneath the controls, as a list or graph depending on your chosen output format."
   ]
  },
  {
   "cell_type": "code",
   "execution_count": null,
   "metadata": {
    "scrolled": false
   },
   "outputs": [],
   "source": [
    "%matplotlib inline\n",
    "import notebook_utils\n",
    "notebook_utils.run()"
   ]
  }
 ],
 "metadata": {
  "kernelspec": {
   "display_name": "Python 3",
   "language": "python",
   "name": "python3"
  },
  "language_info": {
   "codemirror_mode": {
    "name": "ipython",
    "version": 3
   },
   "file_extension": ".py",
   "mimetype": "text/x-python",
   "name": "python",
   "nbconvert_exporter": "python",
   "pygments_lexer": "ipython3",
   "version": "3.8.5"
  }
 },
 "nbformat": 4,
 "nbformat_minor": 2
}
